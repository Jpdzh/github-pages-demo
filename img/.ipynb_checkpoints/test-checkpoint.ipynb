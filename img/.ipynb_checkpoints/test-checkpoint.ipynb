{
 "cells": [
  {
   "cell_type": "code",
   "execution_count": 1,
   "metadata": {},
   "outputs": [],
   "source": [
    "from PIL import Image\n",
    "import os\n",
    "\n",
    "def resize_images(folder_path):\n",
    "    # 获取文件夹中的所有文件名\n",
    "    files = os.listdir(folder_path)\n",
    "\n",
    "    for file in files:\n",
    "        # 检查文件是否为PNG格式\n",
    "        if file.endswith('.png'):\n",
    "            file_path = os.path.join(folder_path, file)\n",
    "            # 打开图像\n",
    "            img = Image.open(file_path)\n",
    "            # 根据文件名进行resize\n",
    "            if file.startswith('01') or file.startswith('02') or file.startswith('03') or file.startswith('04') or file.startswith('05') or file.startswith('06'):\n",
    "                # resize为100x98\n",
    "                img_resized = img.resize((100, 98))\n",
    "            elif file.startswith('1') or file.startswith('2') or file.startswith('3') or file.startswith('4') or file.startswith('5') or file.startswith('6'):\n",
    "                # resize为400x401\n",
    "                img_resized = img.resize((400, 401))\n",
    "            else:\n",
    "                # 其他情况保持原始大小\n",
    "                img_resized = img\n",
    "            \n",
    "            # 保存resize后的图像\n",
    "            img_resized.save(file_path)\n",
    "\n",
    "# 指定文件夹路径\n",
    "folder_path = './'\n",
    "\n",
    "# 调用函数进行resize\n",
    "resize_images(folder_path)\n"
   ]
  }
 ],
 "metadata": {
  "kernelspec": {
   "display_name": "Python (py38)",
   "language": "python",
   "name": "py38"
  },
  "language_info": {
   "codemirror_mode": {
    "name": "ipython",
    "version": 3
   },
   "file_extension": ".py",
   "mimetype": "text/x-python",
   "name": "python",
   "nbconvert_exporter": "python",
   "pygments_lexer": "ipython3",
   "version": "3.8.18"
  }
 },
 "nbformat": 4,
 "nbformat_minor": 4
}
